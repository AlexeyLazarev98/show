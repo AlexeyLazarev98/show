{
 "cells": [
  {
   "cell_type": "markdown",
   "metadata": {},
   "source": [
    "# числа Фибоначчи"
   ]
  },
  {
   "cell_type": "code",
   "execution_count": 29,
   "metadata": {},
   "outputs": [
    {
     "name": "stdout",
     "output_type": "stream",
     "text": [
      "10\n",
      "55\n"
     ]
    }
   ],
   "source": [
    "import math\n",
    "n = int(input())\n",
    "f0=0\n",
    "f1=1\n",
    "for i in range(2,n+1):\n",
    "    fn=f0+f1\n",
    "    f0=f1\n",
    "    f1=fn\n",
    "if (n==0):\n",
    "    fn=f0\n",
    "elif (n==1):\n",
    "    fn=f1\n",
    "else:\n",
    "    print(fn)    "
   ]
  },
  {
   "cell_type": "markdown",
   "metadata": {},
   "source": [
    "# Вектор со вставленными нулями"
   ]
  },
  {
   "cell_type": "code",
   "execution_count": 77,
   "metadata": {},
   "outputs": [],
   "source": [
    "import numpy as np"
   ]
  },
  {
   "cell_type": "code",
   "execution_count": 75,
   "metadata": {},
   "outputs": [
    {
     "name": "stdout",
     "output_type": "stream",
     "text": [
      "2 -15 71\n",
      "[2, -15, 71]\n"
     ]
    }
   ],
   "source": [
    "A = input().split()\n",
    "for i in range(len(A)):\n",
    "    A[i] = int(A[i])\n",
    "print (A)"
   ]
  },
  {
   "cell_type": "code",
   "execution_count": 78,
   "metadata": {},
   "outputs": [],
   "source": [
    "def insertZeros(A):\n",
    "    k=np.zeros(len(A)*2-1,int)\n",
    "    for i in range(len(A)):\n",
    "        k[i*2]=A[i]\n",
    "    return k"
   ]
  },
  {
   "cell_type": "code",
   "execution_count": 79,
   "metadata": {},
   "outputs": [
    {
     "data": {
      "text/plain": [
       "array([  2,   0, -15,   0,  71])"
      ]
     },
     "execution_count": 79,
     "metadata": {},
     "output_type": "execute_result"
    }
   ],
   "source": [
    "insertZeros(A)"
   ]
  }
 ],
 "metadata": {
  "kernelspec": {
   "display_name": "Python 3",
   "language": "python",
   "name": "python3"
  },
  "language_info": {
   "codemirror_mode": {
    "name": "ipython",
    "version": 3
   },
   "file_extension": ".py",
   "mimetype": "text/x-python",
   "name": "python",
   "nbconvert_exporter": "python",
   "pygments_lexer": "ipython3",
   "version": "3.7.0"
  }
 },
 "nbformat": 4,
 "nbformat_minor": 2
}
